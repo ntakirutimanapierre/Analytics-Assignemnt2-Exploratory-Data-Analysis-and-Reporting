{
 "cells": [
  {
   "cell_type": "code",
   "execution_count": 9,
   "metadata": {},
   "outputs": [],
   "source": [
    "# Import packages\n",
    "import numpy as np\n",
    "import matplotlib.pyplot as plt \n",
    "import seaborn as sns\n",
    "import pandas as pd"
   ]
  },
  {
   "cell_type": "markdown",
   "metadata": {},
   "source": [
    "# List of possible questions that the dataset can explain\n",
    "\n",
    "0. Why did UN generate this dataset\n",
    "1. How many variables are the dataset\n",
    "2. How many instances\n",
    "3. What are the datatypes of the variables\n",
    "4. Do they have missing values\n",
    "6. What the average of all the numerical values\n",
    "7. When was this dataset generated\n",
    "8. Why did they make it public\n",
    "9. "
   ]
  },
  {
   "cell_type": "markdown",
   "metadata": {},
   "source": [
    "# Start the works"
   ]
  },
  {
   "cell_type": "code",
   "execution_count": 8,
   "metadata": {},
   "outputs": [],
   "source": [
    "file_path = 'SYB66_310_202310_Carbon Dioxide Emission Estimates.csv'\n",
    "\n",
    "# Try reading the file with 'latin-1' encoding\n",
    "df = pd.read_csv(file_path, encoding='latin-1')\n",
    "\n",
    "\n"
   ]
  }
 ],
 "metadata": {
  "kernelspec": {
   "display_name": "base",
   "language": "python",
   "name": "python3"
  },
  "language_info": {
   "codemirror_mode": {
    "name": "ipython",
    "version": 3
   },
   "file_extension": ".py",
   "mimetype": "text/x-python",
   "name": "python",
   "nbconvert_exporter": "python",
   "pygments_lexer": "ipython3",
   "version": "3.11.3"
  }
 },
 "nbformat": 4,
 "nbformat_minor": 2
}
