{
 "cells": [
  {
   "cell_type": "code",
   "execution_count": 51,
   "metadata": {},
   "outputs": [],
   "source": [
    "import math\n",
    "\n",
    "import pandas as pd\n",
    "import numpy as np\n",
    "import matplotlib.pyplot as plt\n",
    "import seaborn as sns\n",
    "sns.set()\n",
    "import warnings\n",
    "warnings.filterwarnings(\"ignore\")"
   ]
  },
  {
   "cell_type": "markdown",
   "metadata": {},
   "source": [
    "# List of possible questions that the dataset can explain\n",
    "\n",
    "0. Why did UN generate this dataset\n",
    "1. How many variables are the dataset\n",
    "2. How many instances\n",
    "3. What are the datatypes of the variables\n",
    "4. Do they have missing values\n",
    "6. What the average of all the numerical values\n",
    "7. When was this dataset generated\n",
    "8. Why did they make it public\n",
    "9. What insight could this data provide\n",
    "10. How are variables correlated between each other\n"
   ]
  },
  {
   "cell_type": "code",
   "execution_count": 52,
   "metadata": {},
   "outputs": [],
   "source": [
    "co2_data = pd.read_csv('SYB66_310_202310_Carbon Dioxide Emission Estimates.csv', encoding='latin-1', skiprows=1)"
   ]
  },
  {
   "cell_type": "code",
   "execution_count": 53,
   "metadata": {},
   "outputs": [
    {
     "data": {
      "text/html": [
       "<div>\n",
       "<style scoped>\n",
       "    .dataframe tbody tr th:only-of-type {\n",
       "        vertical-align: middle;\n",
       "    }\n",
       "\n",
       "    .dataframe tbody tr th {\n",
       "        vertical-align: top;\n",
       "    }\n",
       "\n",
       "    .dataframe thead th {\n",
       "        text-align: right;\n",
       "    }\n",
       "</style>\n",
       "<table border=\"1\" class=\"dataframe\">\n",
       "  <thead>\n",
       "    <tr style=\"text-align: right;\">\n",
       "      <th></th>\n",
       "      <th>Region/Country/Area</th>\n",
       "      <th>Country</th>\n",
       "      <th>Year</th>\n",
       "      <th>Series</th>\n",
       "      <th>Value</th>\n",
       "      <th>Footnotes</th>\n",
       "      <th>Source</th>\n",
       "    </tr>\n",
       "  </thead>\n",
       "  <tbody>\n",
       "    <tr>\n",
       "      <th>0</th>\n",
       "      <td>8</td>\n",
       "      <td>Albania</td>\n",
       "      <td>1975</td>\n",
       "      <td>Emissions (thousand metric tons of carbon diox...</td>\n",
       "      <td>4,524</td>\n",
       "      <td>NaN</td>\n",
       "      <td>International Energy Agency, IEA World Energy ...</td>\n",
       "    </tr>\n",
       "    <tr>\n",
       "      <th>1</th>\n",
       "      <td>8</td>\n",
       "      <td>Albania</td>\n",
       "      <td>1985</td>\n",
       "      <td>Emissions (thousand metric tons of carbon diox...</td>\n",
       "      <td>7,145</td>\n",
       "      <td>NaN</td>\n",
       "      <td>International Energy Agency, IEA World Energy ...</td>\n",
       "    </tr>\n",
       "    <tr>\n",
       "      <th>2</th>\n",
       "      <td>8</td>\n",
       "      <td>Albania</td>\n",
       "      <td>2005</td>\n",
       "      <td>Emissions (thousand metric tons of carbon diox...</td>\n",
       "      <td>3,980</td>\n",
       "      <td>NaN</td>\n",
       "      <td>International Energy Agency, IEA World Energy ...</td>\n",
       "    </tr>\n",
       "    <tr>\n",
       "      <th>3</th>\n",
       "      <td>8</td>\n",
       "      <td>Albania</td>\n",
       "      <td>2010</td>\n",
       "      <td>Emissions (thousand metric tons of carbon diox...</td>\n",
       "      <td>4,074</td>\n",
       "      <td>NaN</td>\n",
       "      <td>International Energy Agency, IEA World Energy ...</td>\n",
       "    </tr>\n",
       "    <tr>\n",
       "      <th>4</th>\n",
       "      <td>8</td>\n",
       "      <td>Albania</td>\n",
       "      <td>2015</td>\n",
       "      <td>Emissions (thousand metric tons of carbon diox...</td>\n",
       "      <td>3,975</td>\n",
       "      <td>NaN</td>\n",
       "      <td>International Energy Agency, IEA World Energy ...</td>\n",
       "    </tr>\n",
       "    <tr>\n",
       "      <th>5</th>\n",
       "      <td>8</td>\n",
       "      <td>Albania</td>\n",
       "      <td>2018</td>\n",
       "      <td>Emissions (thousand metric tons of carbon diox...</td>\n",
       "      <td>4,525</td>\n",
       "      <td>NaN</td>\n",
       "      <td>International Energy Agency, IEA World Energy ...</td>\n",
       "    </tr>\n",
       "    <tr>\n",
       "      <th>6</th>\n",
       "      <td>8</td>\n",
       "      <td>Albania</td>\n",
       "      <td>2019</td>\n",
       "      <td>Emissions (thousand metric tons of carbon diox...</td>\n",
       "      <td>4,200</td>\n",
       "      <td>NaN</td>\n",
       "      <td>International Energy Agency, IEA World Energy ...</td>\n",
       "    </tr>\n",
       "    <tr>\n",
       "      <th>7</th>\n",
       "      <td>8</td>\n",
       "      <td>Albania</td>\n",
       "      <td>2020</td>\n",
       "      <td>Emissions (thousand metric tons of carbon diox...</td>\n",
       "      <td>3,512</td>\n",
       "      <td>NaN</td>\n",
       "      <td>International Energy Agency, IEA World Energy ...</td>\n",
       "    </tr>\n",
       "    <tr>\n",
       "      <th>8</th>\n",
       "      <td>8</td>\n",
       "      <td>Albania</td>\n",
       "      <td>1975</td>\n",
       "      <td>Emissions per capita (metric tons of carbon di...</td>\n",
       "      <td>1.8</td>\n",
       "      <td>NaN</td>\n",
       "      <td>International Energy Agency, IEA World Energy ...</td>\n",
       "    </tr>\n",
       "    <tr>\n",
       "      <th>9</th>\n",
       "      <td>8</td>\n",
       "      <td>Albania</td>\n",
       "      <td>1985</td>\n",
       "      <td>Emissions per capita (metric tons of carbon di...</td>\n",
       "      <td>2.3</td>\n",
       "      <td>NaN</td>\n",
       "      <td>International Energy Agency, IEA World Energy ...</td>\n",
       "    </tr>\n",
       "  </tbody>\n",
       "</table>\n",
       "</div>"
      ],
      "text/plain": [
       "   Region/Country/Area  Country  Year  \\\n",
       "0                    8  Albania  1975   \n",
       "1                    8  Albania  1985   \n",
       "2                    8  Albania  2005   \n",
       "3                    8  Albania  2010   \n",
       "4                    8  Albania  2015   \n",
       "5                    8  Albania  2018   \n",
       "6                    8  Albania  2019   \n",
       "7                    8  Albania  2020   \n",
       "8                    8  Albania  1975   \n",
       "9                    8  Albania  1985   \n",
       "\n",
       "                                              Series  Value Footnotes  \\\n",
       "0  Emissions (thousand metric tons of carbon diox...  4,524       NaN   \n",
       "1  Emissions (thousand metric tons of carbon diox...  7,145       NaN   \n",
       "2  Emissions (thousand metric tons of carbon diox...  3,980       NaN   \n",
       "3  Emissions (thousand metric tons of carbon diox...  4,074       NaN   \n",
       "4  Emissions (thousand metric tons of carbon diox...  3,975       NaN   \n",
       "5  Emissions (thousand metric tons of carbon diox...  4,525       NaN   \n",
       "6  Emissions (thousand metric tons of carbon diox...  4,200       NaN   \n",
       "7  Emissions (thousand metric tons of carbon diox...  3,512       NaN   \n",
       "8  Emissions per capita (metric tons of carbon di...    1.8       NaN   \n",
       "9  Emissions per capita (metric tons of carbon di...    2.3       NaN   \n",
       "\n",
       "                                              Source  \n",
       "0  International Energy Agency, IEA World Energy ...  \n",
       "1  International Energy Agency, IEA World Energy ...  \n",
       "2  International Energy Agency, IEA World Energy ...  \n",
       "3  International Energy Agency, IEA World Energy ...  \n",
       "4  International Energy Agency, IEA World Energy ...  \n",
       "5  International Energy Agency, IEA World Energy ...  \n",
       "6  International Energy Agency, IEA World Energy ...  \n",
       "7  International Energy Agency, IEA World Energy ...  \n",
       "8  International Energy Agency, IEA World Energy ...  \n",
       "9  International Energy Agency, IEA World Energy ...  "
      ]
     },
     "execution_count": 53,
     "metadata": {},
     "output_type": "execute_result"
    }
   ],
   "source": [
    "co2_data.head(10)"
   ]
  },
  {
   "cell_type": "code",
   "execution_count": 54,
   "metadata": {},
   "outputs": [
    {
     "data": {
      "text/html": [
       "<div>\n",
       "<style scoped>\n",
       "    .dataframe tbody tr th:only-of-type {\n",
       "        vertical-align: middle;\n",
       "    }\n",
       "\n",
       "    .dataframe tbody tr th {\n",
       "        vertical-align: top;\n",
       "    }\n",
       "\n",
       "    .dataframe thead th {\n",
       "        text-align: right;\n",
       "    }\n",
       "</style>\n",
       "<table border=\"1\" class=\"dataframe\">\n",
       "  <thead>\n",
       "    <tr style=\"text-align: right;\">\n",
       "      <th></th>\n",
       "      <th>Region/Country/Area</th>\n",
       "      <th>Country</th>\n",
       "      <th>Year</th>\n",
       "      <th>Series</th>\n",
       "      <th>Value</th>\n",
       "      <th>Footnotes</th>\n",
       "      <th>Source</th>\n",
       "    </tr>\n",
       "  </thead>\n",
       "  <tbody>\n",
       "    <tr>\n",
       "      <th>2254</th>\n",
       "      <td>716</td>\n",
       "      <td>Zimbabwe</td>\n",
       "      <td>2019</td>\n",
       "      <td>Emissions (thousand metric tons of carbon diox...</td>\n",
       "      <td>12,525</td>\n",
       "      <td>NaN</td>\n",
       "      <td>International Energy Agency, IEA World Energy ...</td>\n",
       "    </tr>\n",
       "    <tr>\n",
       "      <th>2255</th>\n",
       "      <td>716</td>\n",
       "      <td>Zimbabwe</td>\n",
       "      <td>2020</td>\n",
       "      <td>Emissions (thousand metric tons of carbon diox...</td>\n",
       "      <td>10,647</td>\n",
       "      <td>NaN</td>\n",
       "      <td>International Energy Agency, IEA World Energy ...</td>\n",
       "    </tr>\n",
       "    <tr>\n",
       "      <th>2256</th>\n",
       "      <td>716</td>\n",
       "      <td>Zimbabwe</td>\n",
       "      <td>1975</td>\n",
       "      <td>Emissions per capita (metric tons of carbon di...</td>\n",
       "      <td>1.1</td>\n",
       "      <td>NaN</td>\n",
       "      <td>International Energy Agency, IEA World Energy ...</td>\n",
       "    </tr>\n",
       "    <tr>\n",
       "      <th>2257</th>\n",
       "      <td>716</td>\n",
       "      <td>Zimbabwe</td>\n",
       "      <td>1985</td>\n",
       "      <td>Emissions per capita (metric tons of carbon di...</td>\n",
       "      <td>1.1</td>\n",
       "      <td>NaN</td>\n",
       "      <td>International Energy Agency, IEA World Energy ...</td>\n",
       "    </tr>\n",
       "    <tr>\n",
       "      <th>2258</th>\n",
       "      <td>716</td>\n",
       "      <td>Zimbabwe</td>\n",
       "      <td>2005</td>\n",
       "      <td>Emissions per capita (metric tons of carbon di...</td>\n",
       "      <td>0.9</td>\n",
       "      <td>NaN</td>\n",
       "      <td>International Energy Agency, IEA World Energy ...</td>\n",
       "    </tr>\n",
       "    <tr>\n",
       "      <th>2259</th>\n",
       "      <td>716</td>\n",
       "      <td>Zimbabwe</td>\n",
       "      <td>2010</td>\n",
       "      <td>Emissions per capita (metric tons of carbon di...</td>\n",
       "      <td>0.7</td>\n",
       "      <td>NaN</td>\n",
       "      <td>International Energy Agency, IEA World Energy ...</td>\n",
       "    </tr>\n",
       "    <tr>\n",
       "      <th>2260</th>\n",
       "      <td>716</td>\n",
       "      <td>Zimbabwe</td>\n",
       "      <td>2015</td>\n",
       "      <td>Emissions per capita (metric tons of carbon di...</td>\n",
       "      <td>0.8</td>\n",
       "      <td>NaN</td>\n",
       "      <td>International Energy Agency, IEA World Energy ...</td>\n",
       "    </tr>\n",
       "    <tr>\n",
       "      <th>2261</th>\n",
       "      <td>716</td>\n",
       "      <td>Zimbabwe</td>\n",
       "      <td>2018</td>\n",
       "      <td>Emissions per capita (metric tons of carbon di...</td>\n",
       "      <td>0.7</td>\n",
       "      <td>NaN</td>\n",
       "      <td>International Energy Agency, IEA World Energy ...</td>\n",
       "    </tr>\n",
       "    <tr>\n",
       "      <th>2262</th>\n",
       "      <td>716</td>\n",
       "      <td>Zimbabwe</td>\n",
       "      <td>2019</td>\n",
       "      <td>Emissions per capita (metric tons of carbon di...</td>\n",
       "      <td>0.7</td>\n",
       "      <td>NaN</td>\n",
       "      <td>International Energy Agency, IEA World Energy ...</td>\n",
       "    </tr>\n",
       "    <tr>\n",
       "      <th>2263</th>\n",
       "      <td>716</td>\n",
       "      <td>Zimbabwe</td>\n",
       "      <td>2020</td>\n",
       "      <td>Emissions per capita (metric tons of carbon di...</td>\n",
       "      <td>0.5</td>\n",
       "      <td>NaN</td>\n",
       "      <td>International Energy Agency, IEA World Energy ...</td>\n",
       "    </tr>\n",
       "  </tbody>\n",
       "</table>\n",
       "</div>"
      ],
      "text/plain": [
       "      Region/Country/Area   Country  Year  \\\n",
       "2254                  716  Zimbabwe  2019   \n",
       "2255                  716  Zimbabwe  2020   \n",
       "2256                  716  Zimbabwe  1975   \n",
       "2257                  716  Zimbabwe  1985   \n",
       "2258                  716  Zimbabwe  2005   \n",
       "2259                  716  Zimbabwe  2010   \n",
       "2260                  716  Zimbabwe  2015   \n",
       "2261                  716  Zimbabwe  2018   \n",
       "2262                  716  Zimbabwe  2019   \n",
       "2263                  716  Zimbabwe  2020   \n",
       "\n",
       "                                                 Series   Value Footnotes  \\\n",
       "2254  Emissions (thousand metric tons of carbon diox...  12,525       NaN   \n",
       "2255  Emissions (thousand metric tons of carbon diox...  10,647       NaN   \n",
       "2256  Emissions per capita (metric tons of carbon di...     1.1       NaN   \n",
       "2257  Emissions per capita (metric tons of carbon di...     1.1       NaN   \n",
       "2258  Emissions per capita (metric tons of carbon di...     0.9       NaN   \n",
       "2259  Emissions per capita (metric tons of carbon di...     0.7       NaN   \n",
       "2260  Emissions per capita (metric tons of carbon di...     0.8       NaN   \n",
       "2261  Emissions per capita (metric tons of carbon di...     0.7       NaN   \n",
       "2262  Emissions per capita (metric tons of carbon di...     0.7       NaN   \n",
       "2263  Emissions per capita (metric tons of carbon di...     0.5       NaN   \n",
       "\n",
       "                                                 Source  \n",
       "2254  International Energy Agency, IEA World Energy ...  \n",
       "2255  International Energy Agency, IEA World Energy ...  \n",
       "2256  International Energy Agency, IEA World Energy ...  \n",
       "2257  International Energy Agency, IEA World Energy ...  \n",
       "2258  International Energy Agency, IEA World Energy ...  \n",
       "2259  International Energy Agency, IEA World Energy ...  \n",
       "2260  International Energy Agency, IEA World Energy ...  \n",
       "2261  International Energy Agency, IEA World Energy ...  \n",
       "2262  International Energy Agency, IEA World Energy ...  \n",
       "2263  International Energy Agency, IEA World Energy ...  "
      ]
     },
     "execution_count": 54,
     "metadata": {},
     "output_type": "execute_result"
    }
   ],
   "source": [
    "co2_data.tail(10)"
   ]
  },
  {
   "cell_type": "markdown",
   "metadata": {},
   "source": [
    "What is are the  types of data found in the dataset? \n",
    "1. The dataset contains 3  numerical columns which are the  Region/Country/Area , Year and Values \n",
    "2. The dataset contains 3 other non numerical columns which are Unnamed: 1 , Series and Source "
   ]
  },
  {
   "cell_type": "markdown",
   "metadata": {},
   "source": [
    "#Talk about the naming of the Unnamed  1 and why the decision of calling it country "
   ]
  },
  {
   "cell_type": "code",
   "execution_count": 55,
   "metadata": {},
   "outputs": [],
   "source": [
    "#renaming the Unnamed: 1 to Country \n",
    "co2_data.rename(columns= {\"Unnamed: 1\":\"Country\"},inplace=True)"
   ]
  },
  {
   "cell_type": "code",
   "execution_count": 56,
   "metadata": {},
   "outputs": [],
   "source": [
    "#dropping Foot notes columns \n",
    "\n",
    "co2_data.drop(columns=\"Footnotes\", inplace=True)\n"
   ]
  },
  {
   "cell_type": "markdown",
   "metadata": {},
   "source": [
    "#Why did you drop the foot cotes columns \n",
    "The Footnotes  column can be dropped since it contains only Nan values thus it is irrelevant.  "
   ]
  },
  {
   "cell_type": "markdown",
   "metadata": {},
   "source": [
    "Question 01  : What is the number of columns and rows that are present in the dataset ? "
   ]
  },
  {
   "cell_type": "code",
   "execution_count": 57,
   "metadata": {},
   "outputs": [
    {
     "data": {
      "text/plain": [
       "(2264, 6)"
      ]
     },
     "execution_count": 57,
     "metadata": {},
     "output_type": "execute_result"
    }
   ],
   "source": [
    "#shape of the dataset \n",
    "co2_data.shape"
   ]
  },
  {
   "cell_type": "markdown",
   "metadata": {},
   "source": [
    "Question 02  :  The name of columns which are present in the dataset. "
   ]
  },
  {
   "cell_type": "code",
   "execution_count": 58,
   "metadata": {},
   "outputs": [
    {
     "data": {
      "text/plain": [
       "Index(['Region/Country/Area', 'Country', 'Year', 'Series', 'Value', 'Source'], dtype='object')"
      ]
     },
     "execution_count": 58,
     "metadata": {},
     "output_type": "execute_result"
    }
   ],
   "source": [
    "co2_data.columns.unique()"
   ]
  },
  {
   "cell_type": "markdown",
   "metadata": {},
   "source": [
    "Question 03: What are the datatypes of the dataset and are there missing values "
   ]
  },
  {
   "cell_type": "code",
   "execution_count": 59,
   "metadata": {},
   "outputs": [
    {
     "name": "stdout",
     "output_type": "stream",
     "text": [
      "<class 'pandas.core.frame.DataFrame'>\n",
      "RangeIndex: 2264 entries, 0 to 2263\n",
      "Data columns (total 6 columns):\n",
      " #   Column               Non-Null Count  Dtype \n",
      "---  ------               --------------  ----- \n",
      " 0   Region/Country/Area  2264 non-null   int64 \n",
      " 1   Country              2264 non-null   object\n",
      " 2   Year                 2264 non-null   int64 \n",
      " 3   Series               2264 non-null   object\n",
      " 4   Value                2264 non-null   object\n",
      " 5   Source               2264 non-null   object\n",
      "dtypes: int64(2), object(4)\n",
      "memory usage: 106.2+ KB\n"
     ]
    }
   ],
   "source": [
    "#checking the data types and Missing values of the dataset\n",
    "co2_data.info()"
   ]
  },
  {
   "cell_type": "markdown",
   "metadata": {},
   "source": [
    "## Insights \n",
    "\n",
    "1. The dataset seems not to have any missing values. \n",
    "2. The datatype for the column Value is object but it should be changed to Float 64 for easy computation. "
   ]
  },
  {
   "cell_type": "code",
   "execution_count": 60,
   "metadata": {},
   "outputs": [],
   "source": [
    "#create separate datasets or columns for   thousand metric tons  emission \n",
    "k_co2 = co2_data[co2_data['Value'].str.contains(',')]"
   ]
  },
  {
   "cell_type": "code",
   "execution_count": 61,
   "metadata": {},
   "outputs": [],
   "source": [
    "#renamong the value columns \n",
    "k_co2.rename(columns= {\"Value\":\"CO2/kt\"},inplace=True)"
   ]
  },
  {
   "cell_type": "code",
   "execution_count": 62,
   "metadata": {},
   "outputs": [],
   "source": [
    "#changing the datatype of Value column to float \n",
    "k_co2['CO2/kt'] = k_co2['CO2/kt'].str.replace(',','').astype(float)"
   ]
  },
  {
   "cell_type": "code",
   "execution_count": 63,
   "metadata": {},
   "outputs": [
    {
     "data": {
      "text/html": [
       "<div>\n",
       "<style scoped>\n",
       "    .dataframe tbody tr th:only-of-type {\n",
       "        vertical-align: middle;\n",
       "    }\n",
       "\n",
       "    .dataframe tbody tr th {\n",
       "        vertical-align: top;\n",
       "    }\n",
       "\n",
       "    .dataframe thead th {\n",
       "        text-align: right;\n",
       "    }\n",
       "</style>\n",
       "<table border=\"1\" class=\"dataframe\">\n",
       "  <thead>\n",
       "    <tr style=\"text-align: right;\">\n",
       "      <th></th>\n",
       "      <th>Region/Country/Area</th>\n",
       "      <th>Country</th>\n",
       "      <th>Year</th>\n",
       "      <th>Series</th>\n",
       "      <th>CO2/kt</th>\n",
       "      <th>Source</th>\n",
       "    </tr>\n",
       "  </thead>\n",
       "  <tbody>\n",
       "    <tr>\n",
       "      <th>0</th>\n",
       "      <td>8</td>\n",
       "      <td>Albania</td>\n",
       "      <td>1975</td>\n",
       "      <td>Emissions (thousand metric tons of carbon diox...</td>\n",
       "      <td>4524.0</td>\n",
       "      <td>International Energy Agency, IEA World Energy ...</td>\n",
       "    </tr>\n",
       "    <tr>\n",
       "      <th>1</th>\n",
       "      <td>8</td>\n",
       "      <td>Albania</td>\n",
       "      <td>1985</td>\n",
       "      <td>Emissions (thousand metric tons of carbon diox...</td>\n",
       "      <td>7145.0</td>\n",
       "      <td>International Energy Agency, IEA World Energy ...</td>\n",
       "    </tr>\n",
       "    <tr>\n",
       "      <th>2</th>\n",
       "      <td>8</td>\n",
       "      <td>Albania</td>\n",
       "      <td>2005</td>\n",
       "      <td>Emissions (thousand metric tons of carbon diox...</td>\n",
       "      <td>3980.0</td>\n",
       "      <td>International Energy Agency, IEA World Energy ...</td>\n",
       "    </tr>\n",
       "    <tr>\n",
       "      <th>3</th>\n",
       "      <td>8</td>\n",
       "      <td>Albania</td>\n",
       "      <td>2010</td>\n",
       "      <td>Emissions (thousand metric tons of carbon diox...</td>\n",
       "      <td>4074.0</td>\n",
       "      <td>International Energy Agency, IEA World Energy ...</td>\n",
       "    </tr>\n",
       "    <tr>\n",
       "      <th>4</th>\n",
       "      <td>8</td>\n",
       "      <td>Albania</td>\n",
       "      <td>2015</td>\n",
       "      <td>Emissions (thousand metric tons of carbon diox...</td>\n",
       "      <td>3975.0</td>\n",
       "      <td>International Energy Agency, IEA World Energy ...</td>\n",
       "    </tr>\n",
       "    <tr>\n",
       "      <th>5</th>\n",
       "      <td>8</td>\n",
       "      <td>Albania</td>\n",
       "      <td>2018</td>\n",
       "      <td>Emissions (thousand metric tons of carbon diox...</td>\n",
       "      <td>4525.0</td>\n",
       "      <td>International Energy Agency, IEA World Energy ...</td>\n",
       "    </tr>\n",
       "    <tr>\n",
       "      <th>6</th>\n",
       "      <td>8</td>\n",
       "      <td>Albania</td>\n",
       "      <td>2019</td>\n",
       "      <td>Emissions (thousand metric tons of carbon diox...</td>\n",
       "      <td>4200.0</td>\n",
       "      <td>International Energy Agency, IEA World Energy ...</td>\n",
       "    </tr>\n",
       "    <tr>\n",
       "      <th>7</th>\n",
       "      <td>8</td>\n",
       "      <td>Albania</td>\n",
       "      <td>2020</td>\n",
       "      <td>Emissions (thousand metric tons of carbon diox...</td>\n",
       "      <td>3512.0</td>\n",
       "      <td>International Energy Agency, IEA World Energy ...</td>\n",
       "    </tr>\n",
       "    <tr>\n",
       "      <th>16</th>\n",
       "      <td>12</td>\n",
       "      <td>Algeria</td>\n",
       "      <td>1975</td>\n",
       "      <td>Emissions (thousand metric tons of carbon diox...</td>\n",
       "      <td>13691.0</td>\n",
       "      <td>International Energy Agency, IEA World Energy ...</td>\n",
       "    </tr>\n",
       "    <tr>\n",
       "      <th>17</th>\n",
       "      <td>12</td>\n",
       "      <td>Algeria</td>\n",
       "      <td>1985</td>\n",
       "      <td>Emissions (thousand metric tons of carbon diox...</td>\n",
       "      <td>42446.0</td>\n",
       "      <td>International Energy Agency, IEA World Energy ...</td>\n",
       "    </tr>\n",
       "  </tbody>\n",
       "</table>\n",
       "</div>"
      ],
      "text/plain": [
       "    Region/Country/Area  Country  Year  \\\n",
       "0                     8  Albania  1975   \n",
       "1                     8  Albania  1985   \n",
       "2                     8  Albania  2005   \n",
       "3                     8  Albania  2010   \n",
       "4                     8  Albania  2015   \n",
       "5                     8  Albania  2018   \n",
       "6                     8  Albania  2019   \n",
       "7                     8  Albania  2020   \n",
       "16                   12  Algeria  1975   \n",
       "17                   12  Algeria  1985   \n",
       "\n",
       "                                               Series   CO2/kt  \\\n",
       "0   Emissions (thousand metric tons of carbon diox...   4524.0   \n",
       "1   Emissions (thousand metric tons of carbon diox...   7145.0   \n",
       "2   Emissions (thousand metric tons of carbon diox...   3980.0   \n",
       "3   Emissions (thousand metric tons of carbon diox...   4074.0   \n",
       "4   Emissions (thousand metric tons of carbon diox...   3975.0   \n",
       "5   Emissions (thousand metric tons of carbon diox...   4525.0   \n",
       "6   Emissions (thousand metric tons of carbon diox...   4200.0   \n",
       "7   Emissions (thousand metric tons of carbon diox...   3512.0   \n",
       "16  Emissions (thousand metric tons of carbon diox...  13691.0   \n",
       "17  Emissions (thousand metric tons of carbon diox...  42446.0   \n",
       "\n",
       "                                               Source  \n",
       "0   International Energy Agency, IEA World Energy ...  \n",
       "1   International Energy Agency, IEA World Energy ...  \n",
       "2   International Energy Agency, IEA World Energy ...  \n",
       "3   International Energy Agency, IEA World Energy ...  \n",
       "4   International Energy Agency, IEA World Energy ...  \n",
       "5   International Energy Agency, IEA World Energy ...  \n",
       "6   International Energy Agency, IEA World Energy ...  \n",
       "7   International Energy Agency, IEA World Energy ...  \n",
       "16  International Energy Agency, IEA World Energy ...  \n",
       "17  International Energy Agency, IEA World Energy ...  "
      ]
     },
     "execution_count": 63,
     "metadata": {},
     "output_type": "execute_result"
    }
   ],
   "source": [
    "#observing the dataset \n",
    "k_co2.head(10)"
   ]
  },
  {
   "cell_type": "code",
   "execution_count": 64,
   "metadata": {},
   "outputs": [],
   "source": [
    "#create a separate dataset for  metric tons per capita\n",
    "p_co2 = co2_data[~co2_data['Value'].str.contains(',')]"
   ]
  },
  {
   "cell_type": "code",
   "execution_count": 65,
   "metadata": {},
   "outputs": [],
   "source": [
    "p_co2.rename(columns= {\"Value\":\"CO2/t_per_capita\"},inplace=True)"
   ]
  },
  {
   "cell_type": "code",
   "execution_count": 82,
   "metadata": {},
   "outputs": [],
   "source": [
    "#changing the datatype of Value column to float \n",
    "p_co2['CO2/t_per_capita'] = p_co2['CO2/t_per_capita'].astype(float)"
   ]
  },
  {
   "cell_type": "code",
   "execution_count": 83,
   "metadata": {
    "scrolled": true
   },
   "outputs": [
    {
     "data": {
      "text/html": [
       "<div>\n",
       "<style scoped>\n",
       "    .dataframe tbody tr th:only-of-type {\n",
       "        vertical-align: middle;\n",
       "    }\n",
       "\n",
       "    .dataframe tbody tr th {\n",
       "        vertical-align: top;\n",
       "    }\n",
       "\n",
       "    .dataframe thead th {\n",
       "        text-align: right;\n",
       "    }\n",
       "</style>\n",
       "<table border=\"1\" class=\"dataframe\">\n",
       "  <thead>\n",
       "    <tr style=\"text-align: right;\">\n",
       "      <th></th>\n",
       "      <th>Region/Country/Area</th>\n",
       "      <th>Country</th>\n",
       "      <th>Year</th>\n",
       "      <th>Series</th>\n",
       "      <th>CO2/t_per_capita</th>\n",
       "      <th>Source</th>\n",
       "    </tr>\n",
       "  </thead>\n",
       "  <tbody>\n",
       "    <tr>\n",
       "      <th>8</th>\n",
       "      <td>8</td>\n",
       "      <td>Albania</td>\n",
       "      <td>1975</td>\n",
       "      <td>Emissions per capita (metric tons of carbon di...</td>\n",
       "      <td>1.8</td>\n",
       "      <td>International Energy Agency, IEA World Energy ...</td>\n",
       "    </tr>\n",
       "    <tr>\n",
       "      <th>9</th>\n",
       "      <td>8</td>\n",
       "      <td>Albania</td>\n",
       "      <td>1985</td>\n",
       "      <td>Emissions per capita (metric tons of carbon di...</td>\n",
       "      <td>2.3</td>\n",
       "      <td>International Energy Agency, IEA World Energy ...</td>\n",
       "    </tr>\n",
       "    <tr>\n",
       "      <th>10</th>\n",
       "      <td>8</td>\n",
       "      <td>Albania</td>\n",
       "      <td>2005</td>\n",
       "      <td>Emissions per capita (metric tons of carbon di...</td>\n",
       "      <td>1.3</td>\n",
       "      <td>International Energy Agency, IEA World Energy ...</td>\n",
       "    </tr>\n",
       "    <tr>\n",
       "      <th>11</th>\n",
       "      <td>8</td>\n",
       "      <td>Albania</td>\n",
       "      <td>2010</td>\n",
       "      <td>Emissions per capita (metric tons of carbon di...</td>\n",
       "      <td>1.4</td>\n",
       "      <td>International Energy Agency, IEA World Energy ...</td>\n",
       "    </tr>\n",
       "    <tr>\n",
       "      <th>12</th>\n",
       "      <td>8</td>\n",
       "      <td>Albania</td>\n",
       "      <td>2015</td>\n",
       "      <td>Emissions per capita (metric tons of carbon di...</td>\n",
       "      <td>1.3</td>\n",
       "      <td>International Energy Agency, IEA World Energy ...</td>\n",
       "    </tr>\n",
       "    <tr>\n",
       "      <th>13</th>\n",
       "      <td>8</td>\n",
       "      <td>Albania</td>\n",
       "      <td>2018</td>\n",
       "      <td>Emissions per capita (metric tons of carbon di...</td>\n",
       "      <td>1.5</td>\n",
       "      <td>International Energy Agency, IEA World Energy ...</td>\n",
       "    </tr>\n",
       "    <tr>\n",
       "      <th>14</th>\n",
       "      <td>8</td>\n",
       "      <td>Albania</td>\n",
       "      <td>2019</td>\n",
       "      <td>Emissions per capita (metric tons of carbon di...</td>\n",
       "      <td>1.4</td>\n",
       "      <td>International Energy Agency, IEA World Energy ...</td>\n",
       "    </tr>\n",
       "    <tr>\n",
       "      <th>15</th>\n",
       "      <td>8</td>\n",
       "      <td>Albania</td>\n",
       "      <td>2020</td>\n",
       "      <td>Emissions per capita (metric tons of carbon di...</td>\n",
       "      <td>1.2</td>\n",
       "      <td>International Energy Agency, IEA World Energy ...</td>\n",
       "    </tr>\n",
       "    <tr>\n",
       "      <th>24</th>\n",
       "      <td>12</td>\n",
       "      <td>Algeria</td>\n",
       "      <td>1975</td>\n",
       "      <td>Emissions per capita (metric tons of carbon di...</td>\n",
       "      <td>0.8</td>\n",
       "      <td>International Energy Agency, IEA World Energy ...</td>\n",
       "    </tr>\n",
       "    <tr>\n",
       "      <th>25</th>\n",
       "      <td>12</td>\n",
       "      <td>Algeria</td>\n",
       "      <td>1985</td>\n",
       "      <td>Emissions per capita (metric tons of carbon di...</td>\n",
       "      <td>1.9</td>\n",
       "      <td>International Energy Agency, IEA World Energy ...</td>\n",
       "    </tr>\n",
       "  </tbody>\n",
       "</table>\n",
       "</div>"
      ],
      "text/plain": [
       "    Region/Country/Area  Country  Year  \\\n",
       "8                     8  Albania  1975   \n",
       "9                     8  Albania  1985   \n",
       "10                    8  Albania  2005   \n",
       "11                    8  Albania  2010   \n",
       "12                    8  Albania  2015   \n",
       "13                    8  Albania  2018   \n",
       "14                    8  Albania  2019   \n",
       "15                    8  Albania  2020   \n",
       "24                   12  Algeria  1975   \n",
       "25                   12  Algeria  1985   \n",
       "\n",
       "                                               Series  CO2/t_per_capita  \\\n",
       "8   Emissions per capita (metric tons of carbon di...               1.8   \n",
       "9   Emissions per capita (metric tons of carbon di...               2.3   \n",
       "10  Emissions per capita (metric tons of carbon di...               1.3   \n",
       "11  Emissions per capita (metric tons of carbon di...               1.4   \n",
       "12  Emissions per capita (metric tons of carbon di...               1.3   \n",
       "13  Emissions per capita (metric tons of carbon di...               1.5   \n",
       "14  Emissions per capita (metric tons of carbon di...               1.4   \n",
       "15  Emissions per capita (metric tons of carbon di...               1.2   \n",
       "24  Emissions per capita (metric tons of carbon di...               0.8   \n",
       "25  Emissions per capita (metric tons of carbon di...               1.9   \n",
       "\n",
       "                                               Source  \n",
       "8   International Energy Agency, IEA World Energy ...  \n",
       "9   International Energy Agency, IEA World Energy ...  \n",
       "10  International Energy Agency, IEA World Energy ...  \n",
       "11  International Energy Agency, IEA World Energy ...  \n",
       "12  International Energy Agency, IEA World Energy ...  \n",
       "13  International Energy Agency, IEA World Energy ...  \n",
       "14  International Energy Agency, IEA World Energy ...  \n",
       "15  International Energy Agency, IEA World Energy ...  \n",
       "24  International Energy Agency, IEA World Energy ...  \n",
       "25  International Energy Agency, IEA World Energy ...  "
      ]
     },
     "execution_count": 83,
     "metadata": {},
     "output_type": "execute_result"
    }
   ],
   "source": [
    "#observing the dataset \n",
    "p_co2.head(10)"
   ]
  },
  {
   "cell_type": "code",
   "execution_count": 84,
   "metadata": {},
   "outputs": [],
   "source": [
    "#merge the two datasets  using country columns \n",
    "merged_data = pd.merge(p_co2,k_co2 ,on=\"Country\")"
   ]
  },
  {
   "cell_type": "code",
   "execution_count": 85,
   "metadata": {},
   "outputs": [],
   "source": [
    "#dropping the other dataset corresponding values \n",
    "merged_data = merged_data.drop(['Region/Country/Area_y','Year_y','Series_y','Source_y'],axis = 1)"
   ]
  },
  {
   "cell_type": "code",
   "execution_count": 87,
   "metadata": {},
   "outputs": [
    {
     "data": {
      "text/html": [
       "<div>\n",
       "<style scoped>\n",
       "    .dataframe tbody tr th:only-of-type {\n",
       "        vertical-align: middle;\n",
       "    }\n",
       "\n",
       "    .dataframe tbody tr th {\n",
       "        vertical-align: top;\n",
       "    }\n",
       "\n",
       "    .dataframe thead th {\n",
       "        text-align: right;\n",
       "    }\n",
       "</style>\n",
       "<table border=\"1\" class=\"dataframe\">\n",
       "  <thead>\n",
       "    <tr style=\"text-align: right;\">\n",
       "      <th></th>\n",
       "      <th>Region/Country/Area_x</th>\n",
       "      <th>Year_x</th>\n",
       "      <th>CO2/t_per_capita</th>\n",
       "      <th>CO2/kt</th>\n",
       "    </tr>\n",
       "  </thead>\n",
       "  <tbody>\n",
       "    <tr>\n",
       "      <th>count</th>\n",
       "      <td>8566.000000</td>\n",
       "      <td>8566.000000</td>\n",
       "      <td>8566.000000</td>\n",
       "      <td>8.566000e+03</td>\n",
       "    </tr>\n",
       "    <tr>\n",
       "      <th>mean</th>\n",
       "      <td>436.441980</td>\n",
       "      <td>2006.511908</td>\n",
       "      <td>14.598097</td>\n",
       "      <td>1.937559e+05</td>\n",
       "    </tr>\n",
       "    <tr>\n",
       "      <th>std</th>\n",
       "      <td>250.551883</td>\n",
       "      <td>15.504417</td>\n",
       "      <td>85.139450</td>\n",
       "      <td>8.155823e+05</td>\n",
       "    </tr>\n",
       "    <tr>\n",
       "      <th>min</th>\n",
       "      <td>8.000000</td>\n",
       "      <td>1975.000000</td>\n",
       "      <td>0.000000</td>\n",
       "      <td>1.001000e+03</td>\n",
       "    </tr>\n",
       "    <tr>\n",
       "      <th>25%</th>\n",
       "      <td>218.000000</td>\n",
       "      <td>2005.000000</td>\n",
       "      <td>0.900000</td>\n",
       "      <td>6.885000e+03</td>\n",
       "    </tr>\n",
       "    <tr>\n",
       "      <th>50%</th>\n",
       "      <td>414.000000</td>\n",
       "      <td>2015.000000</td>\n",
       "      <td>3.200000</td>\n",
       "      <td>2.398700e+04</td>\n",
       "    </tr>\n",
       "    <tr>\n",
       "      <th>75%</th>\n",
       "      <td>646.000000</td>\n",
       "      <td>2019.000000</td>\n",
       "      <td>6.900000</td>\n",
       "      <td>9.009000e+04</td>\n",
       "    </tr>\n",
       "    <tr>\n",
       "      <th>max</th>\n",
       "      <td>894.000000</td>\n",
       "      <td>2020.000000</td>\n",
       "      <td>998.000000</td>\n",
       "      <td>1.019064e+07</td>\n",
       "    </tr>\n",
       "  </tbody>\n",
       "</table>\n",
       "</div>"
      ],
      "text/plain": [
       "       Region/Country/Area_x       Year_x  CO2/t_per_capita        CO2/kt\n",
       "count            8566.000000  8566.000000       8566.000000  8.566000e+03\n",
       "mean              436.441980  2006.511908         14.598097  1.937559e+05\n",
       "std               250.551883    15.504417         85.139450  8.155823e+05\n",
       "min                 8.000000  1975.000000          0.000000  1.001000e+03\n",
       "25%               218.000000  2005.000000          0.900000  6.885000e+03\n",
       "50%               414.000000  2015.000000          3.200000  2.398700e+04\n",
       "75%               646.000000  2019.000000          6.900000  9.009000e+04\n",
       "max               894.000000  2020.000000        998.000000  1.019064e+07"
      ]
     },
     "execution_count": 87,
     "metadata": {},
     "output_type": "execute_result"
    }
   ],
   "source": [
    "#statistical description of the dataset\n",
    "merged_data.describe()"
   ]
  },
  {
   "cell_type": "markdown",
   "metadata": {},
   "source": [
    "### Insights from the Statistical description "
   ]
  },
  {
   "cell_type": "markdown",
   "metadata": {},
   "source": [
    "Question 04: Is there any trend in the co2 emmission ? "
   ]
  },
  {
   "cell_type": "code",
   "execution_count": 88,
   "metadata": {},
   "outputs": [
    {
     "data": {
      "image/png": "[encoded data removed]",
      "text/plain": [
       "<Figure size 640x480 with 1 Axes>"
      ]
     },
     "metadata": {},
     "output_type": "display_data"
    }
   ],
   "source": [
    "#Checking for the trend  of co2 emission per capita in the data \n",
    "sns.lineplot(data=merged_data, y='CO2/t_per_capita',x='Year_x')\n",
    "plt.title(\"Co2 emmission per capita Time Series\")\n",
    "plt.show()"
   ]
  },
  {
   "cell_type": "markdown",
   "metadata": {},
   "source": [
    "### Observations from the c02 trend line \n",
    "1. The amount of co2   emission  per capita is dicreasing  "
   ]
  },
  {
   "cell_type": "code",
   "execution_count": 89,
   "metadata": {},
   "outputs": [
    {
     "data": {
      "image/png": "[encoded data removed]",
      "text/plain": [
       "<Figure size 640x480 with 1 Axes>"
      ]
     },
     "metadata": {},
     "output_type": "display_data"
    }
   ],
   "source": [
    "#Checking for the trend  of co2 emission per thousand metric tons  in the data \n",
    "sns.lineplot(data=merged_data, y='CO2/kt',x='Year_x')\n",
    "plt.title(\"Co2 emmission per thousand metric tons Time Series\")\n",
    "plt.show()"
   ]
  },
  {
   "cell_type": "markdown",
   "metadata": {},
   "source": [
    "Question 05: what is the distribution of the data ? "
   ]
  },
  {
   "cell_type": "code",
   "execution_count": 90,
   "metadata": {},
   "outputs": [
    {
     "data": {
      "image/png": "[encoded data removed]",
      "text/plain": [
       "<Figure size 640x480 with 1 Axes>"
      ]
     },
     "metadata": {},
     "output_type": "display_data"
    }
   ],
   "source": [
    "sns.histplot(x= merged_data['Year_x'],bins=10)\n",
    "plt.xlabel('Co2 emission')\n",
    "plt.ylabel('Frequency')\n",
    "plt.title('Co2 Emission Histogram')\n",
    "plt.show()"
   ]
  },
  {
   "cell_type": "markdown",
   "metadata": {},
   "source": [
    "Question 06: Are there nan/Missing  values or Outliers  in the data ? "
   ]
  },
  {
   "cell_type": "code",
   "execution_count": null,
   "metadata": {},
   "outputs": [],
   "source": [
    "#checking for nan values in the data \n",
    "co2_data.isna().sum()"
   ]
  },
  {
   "cell_type": "code",
   "execution_count": null,
   "metadata": {},
   "outputs": [],
   "source": []
  }
 ],
 "metadata": {
  "kernelspec": {
   "display_name": "Python 3 (ipykernel)",
   "language": "python",
   "name": "python3"
  },
  "language_info": {
   "codemirror_mode": {
    "name": "ipython",
    "version": 3
   },
   "file_extension": ".py",
   "mimetype": "text/x-python",
   "name": "python",
   "nbconvert_exporter": "python",
   "pygments_lexer": "ipython3",
   "version": "3.10.13"
  }
 },
 "nbformat": 4,
 "nbformat_minor": 2
}
