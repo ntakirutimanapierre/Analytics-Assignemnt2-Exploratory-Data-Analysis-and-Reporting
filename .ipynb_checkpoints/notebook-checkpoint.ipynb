{
 "cells": [
  {
   "cell_type": "code",
   "execution_count": 1,
   "metadata": {},
   "outputs": [],
   "source": [
    "import math\n",
    "\n",
    "import pandas as pd\n",
    "import numpy as np\n",
    "import matplotlib.pyplot as plt\n",
    "import seaborn as sns\n",
    "sns.set()\n",
    "import warnings\n",
    "warnings.filterwarnings(\"ignore\")"
   ]
  },
  {
   "cell_type": "markdown",
   "metadata": {},
   "source": [
    "# List of possible questions that the dataset can explain\n",
    "\n",
    "0. Why did UN generate this dataset\n",
    "1. How many variables are the dataset\n",
    "2. How many instances\n",
    "3. What are the datatypes of the variables\n",
    "4. Do they have missing values\n",
    "6. What the average of all the numerical values\n",
    "7. When was this dataset generated\n",
    "8. Why did they make it public\n",
    "9. What insight could this data provide\n",
    "10. How are variables correlated between each other\n"
   ]
  },
  {
   "cell_type": "code",
   "execution_count": 3,
   "metadata": {},
   "outputs": [],
   "source": [
    "co2_data = pd.read_csv('SYB66_310_202310_Carbon Dioxide Emission Estimates.csv', encoding='latin-1', skiprows=1)"
   ]
  },
  {
   "cell_type": "code",
   "execution_count": 4,
   "metadata": {},
   "outputs": [
    {
     "data": {
      "text/html": [
       "<div>\n",
       "<style scoped>\n",
       "    .dataframe tbody tr th:only-of-type {\n",
       "        vertical-align: middle;\n",
       "    }\n",
       "\n",
       "    .dataframe tbody tr th {\n",
       "        vertical-align: top;\n",
       "    }\n",
       "\n",
       "    .dataframe thead th {\n",
       "        text-align: right;\n",
       "    }\n",
       "</style>\n",
       "<table border=\"1\" class=\"dataframe\">\n",
       "  <thead>\n",
       "    <tr style=\"text-align: right;\">\n",
       "      <th></th>\n",
       "      <th>Region/Country/Area</th>\n",
       "      <th>Country</th>\n",
       "      <th>Year</th>\n",
       "      <th>Series</th>\n",
       "      <th>Value</th>\n",
       "      <th>Footnotes</th>\n",
       "      <th>Source</th>\n",
       "    </tr>\n",
       "  </thead>\n",
       "  <tbody>\n",
       "    <tr>\n",
       "      <th>0</th>\n",
       "      <td>8</td>\n",
       "      <td>Albania</td>\n",
       "      <td>1975</td>\n",
       "      <td>Emissions (thousand metric tons of carbon diox...</td>\n",
       "      <td>4,524</td>\n",
       "      <td>NaN</td>\n",
       "      <td>International Energy Agency, IEA World Energy ...</td>\n",
       "    </tr>\n",
       "    <tr>\n",
       "      <th>1</th>\n",
       "      <td>8</td>\n",
       "      <td>Albania</td>\n",
       "      <td>1985</td>\n",
       "      <td>Emissions (thousand metric tons of carbon diox...</td>\n",
       "      <td>7,145</td>\n",
       "      <td>NaN</td>\n",
       "      <td>International Energy Agency, IEA World Energy ...</td>\n",
       "    </tr>\n",
       "    <tr>\n",
       "      <th>2</th>\n",
       "      <td>8</td>\n",
       "      <td>Albania</td>\n",
       "      <td>2005</td>\n",
       "      <td>Emissions (thousand metric tons of carbon diox...</td>\n",
       "      <td>3,980</td>\n",
       "      <td>NaN</td>\n",
       "      <td>International Energy Agency, IEA World Energy ...</td>\n",
       "    </tr>\n",
       "    <tr>\n",
       "      <th>3</th>\n",
       "      <td>8</td>\n",
       "      <td>Albania</td>\n",
       "      <td>2010</td>\n",
       "      <td>Emissions (thousand metric tons of carbon diox...</td>\n",
       "      <td>4,074</td>\n",
       "      <td>NaN</td>\n",
       "      <td>International Energy Agency, IEA World Energy ...</td>\n",
       "    </tr>\n",
       "    <tr>\n",
       "      <th>4</th>\n",
       "      <td>8</td>\n",
       "      <td>Albania</td>\n",
       "      <td>2015</td>\n",
       "      <td>Emissions (thousand metric tons of carbon diox...</td>\n",
       "      <td>3,975</td>\n",
       "      <td>NaN</td>\n",
       "      <td>International Energy Agency, IEA World Energy ...</td>\n",
       "    </tr>\n",
       "    <tr>\n",
       "      <th>5</th>\n",
       "      <td>8</td>\n",
       "      <td>Albania</td>\n",
       "      <td>2018</td>\n",
       "      <td>Emissions (thousand metric tons of carbon diox...</td>\n",
       "      <td>4,525</td>\n",
       "      <td>NaN</td>\n",
       "      <td>International Energy Agency, IEA World Energy ...</td>\n",
       "    </tr>\n",
       "    <tr>\n",
       "      <th>6</th>\n",
       "      <td>8</td>\n",
       "      <td>Albania</td>\n",
       "      <td>2019</td>\n",
       "      <td>Emissions (thousand metric tons of carbon diox...</td>\n",
       "      <td>4,200</td>\n",
       "      <td>NaN</td>\n",
       "      <td>International Energy Agency, IEA World Energy ...</td>\n",
       "    </tr>\n",
       "    <tr>\n",
       "      <th>7</th>\n",
       "      <td>8</td>\n",
       "      <td>Albania</td>\n",
       "      <td>2020</td>\n",
       "      <td>Emissions (thousand metric tons of carbon diox...</td>\n",
       "      <td>3,512</td>\n",
       "      <td>NaN</td>\n",
       "      <td>International Energy Agency, IEA World Energy ...</td>\n",
       "    </tr>\n",
       "    <tr>\n",
       "      <th>8</th>\n",
       "      <td>8</td>\n",
       "      <td>Albania</td>\n",
       "      <td>1975</td>\n",
       "      <td>Emissions per capita (metric tons of carbon di...</td>\n",
       "      <td>1.8</td>\n",
       "      <td>NaN</td>\n",
       "      <td>International Energy Agency, IEA World Energy ...</td>\n",
       "    </tr>\n",
       "    <tr>\n",
       "      <th>9</th>\n",
       "      <td>8</td>\n",
       "      <td>Albania</td>\n",
       "      <td>1985</td>\n",
       "      <td>Emissions per capita (metric tons of carbon di...</td>\n",
       "      <td>2.3</td>\n",
       "      <td>NaN</td>\n",
       "      <td>International Energy Agency, IEA World Energy ...</td>\n",
       "    </tr>\n",
       "  </tbody>\n",
       "</table>\n",
       "</div>"
      ],
      "text/plain": [
       "   Region/Country/Area  Country  Year  \\\n",
       "0                    8  Albania  1975   \n",
       "1                    8  Albania  1985   \n",
       "2                    8  Albania  2005   \n",
       "3                    8  Albania  2010   \n",
       "4                    8  Albania  2015   \n",
       "5                    8  Albania  2018   \n",
       "6                    8  Albania  2019   \n",
       "7                    8  Albania  2020   \n",
       "8                    8  Albania  1975   \n",
       "9                    8  Albania  1985   \n",
       "\n",
       "                                              Series  Value Footnotes  \\\n",
       "0  Emissions (thousand metric tons of carbon diox...  4,524       NaN   \n",
       "1  Emissions (thousand metric tons of carbon diox...  7,145       NaN   \n",
       "2  Emissions (thousand metric tons of carbon diox...  3,980       NaN   \n",
       "3  Emissions (thousand metric tons of carbon diox...  4,074       NaN   \n",
       "4  Emissions (thousand metric tons of carbon diox...  3,975       NaN   \n",
       "5  Emissions (thousand metric tons of carbon diox...  4,525       NaN   \n",
       "6  Emissions (thousand metric tons of carbon diox...  4,200       NaN   \n",
       "7  Emissions (thousand metric tons of carbon diox...  3,512       NaN   \n",
       "8  Emissions per capita (metric tons of carbon di...    1.8       NaN   \n",
       "9  Emissions per capita (metric tons of carbon di...    2.3       NaN   \n",
       "\n",
       "                                              Source  \n",
       "0  International Energy Agency, IEA World Energy ...  \n",
       "1  International Energy Agency, IEA World Energy ...  \n",
       "2  International Energy Agency, IEA World Energy ...  \n",
       "3  International Energy Agency, IEA World Energy ...  \n",
       "4  International Energy Agency, IEA World Energy ...  \n",
       "5  International Energy Agency, IEA World Energy ...  \n",
       "6  International Energy Agency, IEA World Energy ...  \n",
       "7  International Energy Agency, IEA World Energy ...  \n",
       "8  International Energy Agency, IEA World Energy ...  \n",
       "9  International Energy Agency, IEA World Energy ...  "
      ]
     },
     "execution_count": 4,
     "metadata": {},
     "output_type": "execute_result"
    }
   ],
   "source": [
    "co2_data.head(10)"
   ]
  },
  {
   "cell_type": "code",
   "execution_count": 5,
   "metadata": {},
   "outputs": [
    {
     "data": {
      "text/html": [
       "<div>\n",
       "<style scoped>\n",
       "    .dataframe tbody tr th:only-of-type {\n",
       "        vertical-align: middle;\n",
       "    }\n",
       "\n",
       "    .dataframe tbody tr th {\n",
       "        vertical-align: top;\n",
       "    }\n",
       "\n",
       "    .dataframe thead th {\n",
       "        text-align: right;\n",
       "    }\n",
       "</style>\n",
       "<table border=\"1\" class=\"dataframe\">\n",
       "  <thead>\n",
       "    <tr style=\"text-align: right;\">\n",
       "      <th></th>\n",
       "      <th>Region/Country/Area</th>\n",
       "      <th>Country</th>\n",
       "      <th>Year</th>\n",
       "      <th>Series</th>\n",
       "      <th>Value</th>\n",
       "      <th>Footnotes</th>\n",
       "      <th>Source</th>\n",
       "    </tr>\n",
       "  </thead>\n",
       "  <tbody>\n",
       "    <tr>\n",
       "      <th>2254</th>\n",
       "      <td>716</td>\n",
       "      <td>Zimbabwe</td>\n",
       "      <td>2019</td>\n",
       "      <td>Emissions (thousand metric tons of carbon diox...</td>\n",
       "      <td>12,525</td>\n",
       "      <td>NaN</td>\n",
       "      <td>International Energy Agency, IEA World Energy ...</td>\n",
       "    </tr>\n",
       "    <tr>\n",
       "      <th>2255</th>\n",
       "      <td>716</td>\n",
       "      <td>Zimbabwe</td>\n",
       "      <td>2020</td>\n",
       "      <td>Emissions (thousand metric tons of carbon diox...</td>\n",
       "      <td>10,647</td>\n",
       "      <td>NaN</td>\n",
       "      <td>International Energy Agency, IEA World Energy ...</td>\n",
       "    </tr>\n",
       "    <tr>\n",
       "      <th>2256</th>\n",
       "      <td>716</td>\n",
       "      <td>Zimbabwe</td>\n",
       "      <td>1975</td>\n",
       "      <td>Emissions per capita (metric tons of carbon di...</td>\n",
       "      <td>1.1</td>\n",
       "      <td>NaN</td>\n",
       "      <td>International Energy Agency, IEA World Energy ...</td>\n",
       "    </tr>\n",
       "    <tr>\n",
       "      <th>2257</th>\n",
       "      <td>716</td>\n",
       "      <td>Zimbabwe</td>\n",
       "      <td>1985</td>\n",
       "      <td>Emissions per capita (metric tons of carbon di...</td>\n",
       "      <td>1.1</td>\n",
       "      <td>NaN</td>\n",
       "      <td>International Energy Agency, IEA World Energy ...</td>\n",
       "    </tr>\n",
       "    <tr>\n",
       "      <th>2258</th>\n",
       "      <td>716</td>\n",
       "      <td>Zimbabwe</td>\n",
       "      <td>2005</td>\n",
       "      <td>Emissions per capita (metric tons of carbon di...</td>\n",
       "      <td>0.9</td>\n",
       "      <td>NaN</td>\n",
       "      <td>International Energy Agency, IEA World Energy ...</td>\n",
       "    </tr>\n",
       "    <tr>\n",
       "      <th>2259</th>\n",
       "      <td>716</td>\n",
       "      <td>Zimbabwe</td>\n",
       "      <td>2010</td>\n",
       "      <td>Emissions per capita (metric tons of carbon di...</td>\n",
       "      <td>0.7</td>\n",
       "      <td>NaN</td>\n",
       "      <td>International Energy Agency, IEA World Energy ...</td>\n",
       "    </tr>\n",
       "    <tr>\n",
       "      <th>2260</th>\n",
       "      <td>716</td>\n",
       "      <td>Zimbabwe</td>\n",
       "      <td>2015</td>\n",
       "      <td>Emissions per capita (metric tons of carbon di...</td>\n",
       "      <td>0.8</td>\n",
       "      <td>NaN</td>\n",
       "      <td>International Energy Agency, IEA World Energy ...</td>\n",
       "    </tr>\n",
       "    <tr>\n",
       "      <th>2261</th>\n",
       "      <td>716</td>\n",
       "      <td>Zimbabwe</td>\n",
       "      <td>2018</td>\n",
       "      <td>Emissions per capita (metric tons of carbon di...</td>\n",
       "      <td>0.7</td>\n",
       "      <td>NaN</td>\n",
       "      <td>International Energy Agency, IEA World Energy ...</td>\n",
       "    </tr>\n",
       "    <tr>\n",
       "      <th>2262</th>\n",
       "      <td>716</td>\n",
       "      <td>Zimbabwe</td>\n",
       "      <td>2019</td>\n",
       "      <td>Emissions per capita (metric tons of carbon di...</td>\n",
       "      <td>0.7</td>\n",
       "      <td>NaN</td>\n",
       "      <td>International Energy Agency, IEA World Energy ...</td>\n",
       "    </tr>\n",
       "    <tr>\n",
       "      <th>2263</th>\n",
       "      <td>716</td>\n",
       "      <td>Zimbabwe</td>\n",
       "      <td>2020</td>\n",
       "      <td>Emissions per capita (metric tons of carbon di...</td>\n",
       "      <td>0.5</td>\n",
       "      <td>NaN</td>\n",
       "      <td>International Energy Agency, IEA World Energy ...</td>\n",
       "    </tr>\n",
       "  </tbody>\n",
       "</table>\n",
       "</div>"
      ],
      "text/plain": [
       "      Region/Country/Area   Country  Year  \\\n",
       "2254                  716  Zimbabwe  2019   \n",
       "2255                  716  Zimbabwe  2020   \n",
       "2256                  716  Zimbabwe  1975   \n",
       "2257                  716  Zimbabwe  1985   \n",
       "2258                  716  Zimbabwe  2005   \n",
       "2259                  716  Zimbabwe  2010   \n",
       "2260                  716  Zimbabwe  2015   \n",
       "2261                  716  Zimbabwe  2018   \n",
       "2262                  716  Zimbabwe  2019   \n",
       "2263                  716  Zimbabwe  2020   \n",
       "\n",
       "                                                 Series   Value Footnotes  \\\n",
       "2254  Emissions (thousand metric tons of carbon diox...  12,525       NaN   \n",
       "2255  Emissions (thousand metric tons of carbon diox...  10,647       NaN   \n",
       "2256  Emissions per capita (metric tons of carbon di...     1.1       NaN   \n",
       "2257  Emissions per capita (metric tons of carbon di...     1.1       NaN   \n",
       "2258  Emissions per capita (metric tons of carbon di...     0.9       NaN   \n",
       "2259  Emissions per capita (metric tons of carbon di...     0.7       NaN   \n",
       "2260  Emissions per capita (metric tons of carbon di...     0.8       NaN   \n",
       "2261  Emissions per capita (metric tons of carbon di...     0.7       NaN   \n",
       "2262  Emissions per capita (metric tons of carbon di...     0.7       NaN   \n",
       "2263  Emissions per capita (metric tons of carbon di...     0.5       NaN   \n",
       "\n",
       "                                                 Source  \n",
       "2254  International Energy Agency, IEA World Energy ...  \n",
       "2255  International Energy Agency, IEA World Energy ...  \n",
       "2256  International Energy Agency, IEA World Energy ...  \n",
       "2257  International Energy Agency, IEA World Energy ...  \n",
       "2258  International Energy Agency, IEA World Energy ...  \n",
       "2259  International Energy Agency, IEA World Energy ...  \n",
       "2260  International Energy Agency, IEA World Energy ...  \n",
       "2261  International Energy Agency, IEA World Energy ...  \n",
       "2262  International Energy Agency, IEA World Energy ...  \n",
       "2263  International Energy Agency, IEA World Energy ...  "
      ]
     },
     "execution_count": 5,
     "metadata": {},
     "output_type": "execute_result"
    }
   ],
   "source": [
    "co2_data.tail(10)"
   ]
  },
  {
   "cell_type": "markdown",
   "metadata": {},
   "source": [
    "What is are the  types of data found in the dataset? \n",
    "1. The dataset contains 3  numerical columns which are the  Region/Country/Area , Year and Values \n",
    "2. The dataset contains 3 other non numerical columns which are Unnamed: 1 , Series and Source "
   ]
  },
  {
   "cell_type": "markdown",
   "metadata": {},
   "source": [
    "#Talk about the naming of the Unnamed  1 and why the decision of calling it country "
   ]
  },
  {
   "cell_type": "code",
   "execution_count": 6,
   "metadata": {},
   "outputs": [],
   "source": [
    "#renaming the Unnamed: 1 to Country \n",
    "co2_data.rename(columns= {\"Unnamed: 1\":\"Country\"},inplace=True)"
   ]
  },
  {
   "cell_type": "code",
   "execution_count": 7,
   "metadata": {},
   "outputs": [],
   "source": [
    "#dropping Foot notes columns \n",
    "\n",
    "co2_data.drop(columns=\"Footnotes\", inplace=True)\n"
   ]
  },
  {
   "cell_type": "markdown",
   "metadata": {},
   "source": [
    "#Why did you drop the foot cotes columns \n",
    "The Footnotes  column can be dropped since it contains only Nan values thus it is irrelevant.  "
   ]
  },
  {
   "cell_type": "markdown",
   "metadata": {},
   "source": [
    "Question 01  : What is the number of columns and rows that are present in the dataset ? "
   ]
  },
  {
   "cell_type": "code",
   "execution_count": 8,
   "metadata": {},
   "outputs": [
    {
     "data": {
      "text/plain": [
       "(2264, 6)"
      ]
     },
     "execution_count": 8,
     "metadata": {},
     "output_type": "execute_result"
    }
   ],
   "source": [
    "#shape of the dataset \n",
    "co2_data.shape"
   ]
  },
  {
   "cell_type": "markdown",
   "metadata": {},
   "source": [
    "Question 02  :  The name of columns which are present in the dataset. "
   ]
  },
  {
   "cell_type": "code",
   "execution_count": 9,
   "metadata": {},
   "outputs": [
    {
     "data": {
      "text/plain": [
       "Index(['Region/Country/Area', 'Country', 'Year', 'Series', 'Value', 'Source'], dtype='object')"
      ]
     },
     "execution_count": 9,
     "metadata": {},
     "output_type": "execute_result"
    }
   ],
   "source": [
    "co2_data.columns.unique()"
   ]
  },
  {
   "cell_type": "markdown",
   "metadata": {},
   "source": [
    "Question 03: What are the datatypes of the dataset and are there missing values "
   ]
  },
  {
   "cell_type": "code",
   "execution_count": 10,
   "metadata": {},
   "outputs": [
    {
     "name": "stdout",
     "output_type": "stream",
     "text": [
      "<class 'pandas.core.frame.DataFrame'>\n",
      "RangeIndex: 2264 entries, 0 to 2263\n",
      "Data columns (total 6 columns):\n",
      " #   Column               Non-Null Count  Dtype \n",
      "---  ------               --------------  ----- \n",
      " 0   Region/Country/Area  2264 non-null   int64 \n",
      " 1   Country              2264 non-null   object\n",
      " 2   Year                 2264 non-null   int64 \n",
      " 3   Series               2264 non-null   object\n",
      " 4   Value                2264 non-null   object\n",
      " 5   Source               2264 non-null   object\n",
      "dtypes: int64(2), object(4)\n",
      "memory usage: 106.2+ KB\n"
     ]
    }
   ],
   "source": [
    "#checking the data types and Missing values of the dataset\n",
    "co2_data.info()"
   ]
  },
  {
   "cell_type": "markdown",
   "metadata": {},
   "source": [
    "## Insights \n",
    "\n",
    "1. The dataset seems not to have any missing values. \n",
    "2. The datatype for the column Value is object but it should be changed to Float 64 for easy computation. "
   ]
  },
  {
   "cell_type": "code",
   "execution_count": null,
   "metadata": {},
   "outputs": [],
   "source": [
    "#create separate datasets or columns for metric tons per capita and thousan metric tons \n"
   ]
  },
  {
   "cell_type": "code",
   "execution_count": null,
   "metadata": {},
   "outputs": [],
   "source": [
    "#changing the datatype of Value column to float \n",
    "co2_data['Value'] = co2_data['Value'].str.replace(',','').astype(float)"
   ]
  },
  {
   "cell_type": "code",
   "execution_count": null,
   "metadata": {},
   "outputs": [],
   "source": [
    "#statistical description of the dataset\n",
    "co2_data.describe()"
   ]
  },
  {
   "cell_type": "code",
   "execution_count": null,
   "metadata": {},
   "outputs": [],
   "source": [
    "### Insights from the Statistical description "
   ]
  },
  {
   "cell_type": "markdown",
   "metadata": {},
   "source": [
    "Question 04: Is there any trend in the co2 emmission ? "
   ]
  },
  {
   "cell_type": "code",
   "execution_count": null,
   "metadata": {},
   "outputs": [],
   "source": [
    "#Checking for the trend in the data \n",
    "sns.lineplot(data=co2_data, y='Value',x='Year')\n",
    "plt.title(\"Co2 emmission Time Series\")\n",
    "plt.show()"
   ]
  },
  {
   "cell_type": "markdown",
   "metadata": {},
   "source": [
    "### Observations from the c02 trend line \n",
    "1. The amount of co2   emission is increasing "
   ]
  },
  {
   "cell_type": "markdown",
   "metadata": {},
   "source": [
    "Question 05: what is the distribution of the data ? "
   ]
  },
  {
   "cell_type": "code",
   "execution_count": null,
   "metadata": {},
   "outputs": [],
   "source": [
    "sns.histplot(x= co2_data['Year'],bins=10)\n",
    "plt.xlabel('Co2 emission')\n",
    "plt.ylabel('Frequency')\n",
    "plt.title('Co2 Emission Histogram')\n",
    "plt.show()"
   ]
  },
  {
   "cell_type": "markdown",
   "metadata": {},
   "source": [
    "Question 06: Are there nan/Missing  values or Outliers  in the data ? "
   ]
  },
  {
   "cell_type": "code",
   "execution_count": null,
   "metadata": {},
   "outputs": [],
   "source": [
    "#checking for nan values in the data \n",
    "co2_data.isna().sum()"
   ]
  },
  {
   "cell_type": "code",
   "execution_count": null,
   "metadata": {},
   "outputs": [],
   "source": []
  }
 ],
 "metadata": {
  "kernelspec": {
   "display_name": "Python 3 (ipykernel)",
   "language": "python",
   "name": "python3"
  },
  "language_info": {
   "codemirror_mode": {
    "name": "ipython",
    "version": 3
   },
   "file_extension": ".py",
   "mimetype": "text/x-python",
   "name": "python",
   "nbconvert_exporter": "python",
   "pygments_lexer": "ipython3",
   "version": "3.10.13"
  }
 },
 "nbformat": 4,
 "nbformat_minor": 2
}
